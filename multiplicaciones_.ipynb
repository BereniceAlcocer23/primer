{
  "nbformat": 4,
  "nbformat_minor": 0,
  "metadata": {
    "colab": {
      "name": "multiplicaciones .ipynb",
      "provenance": []
    },
    "kernelspec": {
      "name": "python3",
      "display_name": "Python 3"
    },
    "language_info": {
      "name": "python"
    }
  },
  "cells": [
    {
      "cell_type": "code",
      "execution_count": null,
      "metadata": {
        "colab": {
          "base_uri": "https://localhost:8080/"
        },
        "id": "uw3HfyRz864Z",
        "outputId": "bab5f314-616c-43b5-8fe0-9e0b5d1e1af7"
      },
      "outputs": [
        {
          "output_type": "stream",
          "name": "stdout",
          "text": [
            "Elige la tabla que desee8\n",
            "1 x 8 = 8\n",
            "2 x 8 = 16\n",
            "3 x 8 = 24\n",
            "4 x 8 = 32\n",
            "5 x 8 = 40\n",
            "6 x 8 = 48\n",
            "7 x 8 = 56\n",
            "8 x 8 = 64\n",
            "9 x 8 = 72\n"
          ]
        }
      ],
      "source": [
        "i=1\n",
        "tabla=int(input('Elige la tabla que desee'))\n",
        "for i in range(1,10):\n",
        "  resul=i*tabla\n",
        "  print(i,'x',tabla,'=',resul)\n",
        "\n"
      ]
    }
  ]
}