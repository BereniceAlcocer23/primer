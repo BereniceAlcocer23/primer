{
  "nbformat": 4,
  "nbformat_minor": 0,
  "metadata": {
    "colab": {
      "name": "arreglos bidemencionales 2.ipynb",
      "provenance": []
    },
    "kernelspec": {
      "name": "python3",
      "display_name": "Python 3"
    },
    "language_info": {
      "name": "python"
    }
  },
  "cells": [
    {
      "cell_type": "code",
      "source": [
        "Totalhombres=0\n",
        "Totalmujeres=0\n",
        "CalifH=0\n",
        "CalifM=0\n",
        "PromHombres=0\n",
        "PromMujeres=0\n",
        "filas=4\n",
        "columnas=int(input(\"cuantos alumnos son : \"))\n",
        "A=[]\n",
        "aux=\"\"\n",
        "for i in range(0,columnas):\n",
        "  A.append([0]*filas)\n",
        "\n",
        "for i in range(0,columnas):\n",
        "  for j in range(0,filas):\n",
        "    if (j==0):\n",
        "      aux=\"numero de control\"\n",
        "    if(j==1):\n",
        "      aux=\"nombre del alumno\"\n",
        "    if(j==2):\n",
        "      aux=\"Genero\"\n",
        "    if(j==3):\n",
        "      aux=\"Calificacion\"\n",
        "    A[i][j]=input(\"ingresar el \"+aux+ \": \" )\n",
        "\n",
        "for i in range(0,columnas):\n",
        "  if(A[i][2]=='h'):\n",
        "    Totalhombres=Totalhombres+1\n",
        "    CalifH=CalifH+int(A[i][3])\n",
        "\n",
        "  if(A[i][2]=='m'):\n",
        "    Totalmujeres=Totalmujeres+1\n",
        "    CalifM=CalifM+int(A[i][3])\n",
        "\n",
        "PromHombres=CalifH/Totalhombres\n",
        "PromMujeres=CalifM/Totalmujeres\n",
        "print(\"Promedio de Hombres\",PromHombres)\n",
        "print(\"Promedio de Mujeres\",PromMujeres)\n",
        "print(A)"
      ],
      "metadata": {
        "colab": {
          "base_uri": "https://localhost:8080/"
        },
        "id": "ktpJ7X3dK-HR",
        "outputId": "f932ae24-2976-4339-ed73-7165296ac5e8"
      },
      "execution_count": 11,
      "outputs": [
        {
          "output_type": "stream",
          "name": "stdout",
          "text": [
            "cuantos alumnos son : 4\n",
            "ingresar el numero de control: 293\n",
            "ingresar el nombre del alumno: an\n",
            "ingresar el Genero: h\n",
            "ingresar el Calificacion: 10\n",
            "ingresar el numero de control: 234\n",
            "ingresar el nombre del alumno: rol\n",
            "ingresar el Genero: h\n",
            "ingresar el Calificacion: 9\n",
            "ingresar el numero de control: 234\n",
            "ingresar el nombre del alumno: gab\n",
            "ingresar el Genero: h\n",
            "ingresar el Calificacion: 8\n",
            "ingresar el numero de control: 345\n",
            "ingresar el nombre del alumno: ber\n",
            "ingresar el Genero: m\n",
            "ingresar el Calificacion: 7\n",
            "Promedio de Hombres 9.0\n",
            "Promedio de Mujeres 7.0\n",
            "[['293', 'an', 'h', '10'], ['234', 'rol', 'h', '9'], ['234', 'gab', 'h', '8'], ['345', 'ber', 'm', '7']]\n"
          ]
        }
      ]
    }
  ]
}