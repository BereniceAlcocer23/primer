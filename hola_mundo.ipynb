{
  "nbformat": 4,
  "nbformat_minor": 0,
  "metadata": {
    "colab": {
      "name": "hola mundo",
      "provenance": []
    },
    "kernelspec": {
      "name": "python3",
      "display_name": "Python 3"
    },
    "language_info": {
      "name": "python"
    }
  },
  "cells": [
    {
      "cell_type": "code",
      "execution_count": null,
      "metadata": {
        "colab": {
          "base_uri": "https://localhost:8080/"
        },
        "id": "bgpp0K8R9iFJ",
        "outputId": "e2b43970-7807-4be0-debb-f26538a2eeb9"
      },
      "outputs": [
        {
          "output_type": "stream",
          "name": "stdout",
          "text": [
            "['o', 'd', 'n', 'u', 'm', 'a', 'l', 'o', 'h']\n"
          ]
        }
      ],
      "source": [
        "Arreglo=['h','o','l','a','m','u','n','d','o']\n",
        "j=8\n",
        "for i in range(0,4):\n",
        "  Aux=Arreglo[i]\n",
        "  Arreglo[i]=Arreglo[j]\n",
        "  Arreglo[j]=Aux\n",
        "  j=j-1\n",
        "print(Arreglo)"
      ]
    }
  ]
}